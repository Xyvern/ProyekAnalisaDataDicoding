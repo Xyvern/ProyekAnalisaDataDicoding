{
 "cells": [
  {
   "cell_type": "markdown",
   "metadata": {
    "id": "H9wADwK78DCz"
   },
   "source": [
    "# Proyek Analisis Data: E-Commerce\n",
    "- **Nama:** Darren Cahya Wijaya\n",
    "- **Email:** darrencahyawijaya@gmail.com\n",
    "- **ID Dicoding:** darrencw"
   ]
  },
  {
   "cell_type": "markdown",
   "metadata": {
    "id": "eE0raob58DC0"
   },
   "source": [
    "## Menentukan Pertanyaan Bisnis"
   ]
  },
  {
   "cell_type": "markdown",
   "metadata": {
    "id": "GmQeQ5YF8DC0"
   },
   "source": [
    "- Pertanyaan 1: Analisa hubungan antara kelengkapan data produk dengan kepuasan pelanggan\n",
    "- Pertanyaan 2: Analisa hubungan waktu pengiriman dengan kepuasan pelanggan"
   ]
  },
  {
   "cell_type": "markdown",
   "metadata": {
    "id": "H-z4QGlO8DC1"
   },
   "source": [
    "## Import Semua Packages/Library yang Digunakan"
   ]
  },
  {
   "cell_type": "code",
   "execution_count": 1,
   "metadata": {
    "id": "FVYwaObI8DC1"
   },
   "outputs": [],
   "source": [
    "import numpy as np\n",
    "import pandas as pd\n",
    "import matplotlib.pyplot as plt\n",
    "import seaborn as sns"
   ]
  },
  {
   "cell_type": "markdown",
   "metadata": {
    "id": "h_Sh51Xy8DC1"
   },
   "source": [
    "## Data Wrangling"
   ]
  },
  {
   "cell_type": "markdown",
   "metadata": {
    "id": "sXU2GBYu8DC1"
   },
   "source": [
    "### Gathering Data"
   ]
  },
  {
   "cell_type": "code",
   "execution_count": 2,
   "metadata": {
    "id": "zjCBk1BI8DC1"
   },
   "outputs": [],
   "source": [
    "dfOrderItems = pd.read_csv(\"./data/order_items_dataset.csv\", delimiter=\",\")\n",
    "dfOrderReviews = pd.read_csv(\"./data/order_reviews_dataset.csv\", delimiter=\",\")\n",
    "dfOrders = pd.read_csv(\"./data/orders_dataset.csv\", delimiter=\",\")\n",
    "dfProducts = pd.read_csv(\"./data/products_dataset.csv\", delimiter=\",\")"
   ]
  },
  {
   "cell_type": "markdown",
   "metadata": {
    "id": "MMi6xGaDkbCi"
   },
   "source": [
    "**Insight:**\n",
    "Dari hasil Gathering Data, kita bisa melihat struktur dari setiap tabel yang diperlukan yaitu\n",
    "- Tabel OrderItems memiliki field order_id, order_item_id, product_id, seller_id, shipping_limit_date, price, freight_value\n",
    "- Tabel OrderReviews memiliki field review_id, order_id, review_score, review_comment_title, review_comment_message, review_creation_date, review_answer_timestamp\n",
    "- Tabel Orders memiliki field order_id, customer_id, order_status, order_purchase_timestamp, order_approved_at, order_delivered_carrier_date, order_delivered_customer_date, order_estimated_delivery_date\n",
    "- Tabel Products memiliki field product_id, product_category_name, product_name_lenght, product_description_lenght, product_photos_qty, product_weight_g, product_length_cm, product_height_cm, product_width_cm"
   ]
  },
  {
   "cell_type": "markdown",
   "metadata": {
    "id": "FHSiqaZp8DC1"
   },
   "source": [
    "### Assessing Data"
   ]
  },
  {
   "cell_type": "code",
   "execution_count": 3,
   "metadata": {
    "id": "ax-3tEjc9Cj1"
   },
   "outputs": [
    {
     "name": "stdout",
     "output_type": "stream",
     "text": [
      "Ini merupakan struktur dari tiap tabel:\n",
      "<class 'pandas.core.frame.DataFrame'>\n",
      "RangeIndex: 112650 entries, 0 to 112649\n",
      "Data columns (total 7 columns):\n",
      " #   Column               Non-Null Count   Dtype  \n",
      "---  ------               --------------   -----  \n",
      " 0   order_id             112650 non-null  object \n",
      " 1   order_item_id        112650 non-null  int64  \n",
      " 2   product_id           112650 non-null  object \n",
      " 3   seller_id            112650 non-null  object \n",
      " 4   shipping_limit_date  112650 non-null  object \n",
      " 5   price                112650 non-null  float64\n",
      " 6   freight_value        112650 non-null  float64\n",
      "dtypes: float64(2), int64(1), object(4)\n",
      "memory usage: 6.0+ MB\n",
      "None\n",
      "<class 'pandas.core.frame.DataFrame'>\n",
      "RangeIndex: 99224 entries, 0 to 99223\n",
      "Data columns (total 7 columns):\n",
      " #   Column                   Non-Null Count  Dtype \n",
      "---  ------                   --------------  ----- \n",
      " 0   review_id                99224 non-null  object\n",
      " 1   order_id                 99224 non-null  object\n",
      " 2   review_score             99224 non-null  int64 \n",
      " 3   review_comment_title     11568 non-null  object\n",
      " 4   review_comment_message   40977 non-null  object\n",
      " 5   review_creation_date     99224 non-null  object\n",
      " 6   review_answer_timestamp  99224 non-null  object\n",
      "dtypes: int64(1), object(6)\n",
      "memory usage: 5.3+ MB\n",
      "None\n",
      "<class 'pandas.core.frame.DataFrame'>\n",
      "RangeIndex: 99441 entries, 0 to 99440\n",
      "Data columns (total 8 columns):\n",
      " #   Column                         Non-Null Count  Dtype \n",
      "---  ------                         --------------  ----- \n",
      " 0   order_id                       99441 non-null  object\n",
      " 1   customer_id                    99441 non-null  object\n",
      " 2   order_status                   99441 non-null  object\n",
      " 3   order_purchase_timestamp       99441 non-null  object\n",
      " 4   order_approved_at              99281 non-null  object\n",
      " 5   order_delivered_carrier_date   97658 non-null  object\n",
      " 6   order_delivered_customer_date  96476 non-null  object\n",
      " 7   order_estimated_delivery_date  99441 non-null  object\n",
      "dtypes: object(8)\n",
      "memory usage: 6.1+ MB\n",
      "None\n",
      "<class 'pandas.core.frame.DataFrame'>\n",
      "RangeIndex: 32951 entries, 0 to 32950\n",
      "Data columns (total 9 columns):\n",
      " #   Column                      Non-Null Count  Dtype  \n",
      "---  ------                      --------------  -----  \n",
      " 0   product_id                  32951 non-null  object \n",
      " 1   product_category_name       32341 non-null  object \n",
      " 2   product_name_lenght         32341 non-null  float64\n",
      " 3   product_description_lenght  32341 non-null  float64\n",
      " 4   product_photos_qty          32341 non-null  float64\n",
      " 5   product_weight_g            32949 non-null  float64\n",
      " 6   product_length_cm           32949 non-null  float64\n",
      " 7   product_height_cm           32949 non-null  float64\n",
      " 8   product_width_cm            32949 non-null  float64\n",
      "dtypes: float64(7), object(2)\n",
      "memory usage: 2.3+ MB\n",
      "None\n",
      "Ini merupakan parameter statistik tiap tabel:\n",
      "       order_item_id          price  freight_value\n",
      "count  112650.000000  112650.000000  112650.000000\n",
      "mean        1.197834     120.653739      19.990320\n",
      "std         0.705124     183.633928      15.806405\n",
      "min         1.000000       0.850000       0.000000\n",
      "25%         1.000000      39.900000      13.080000\n",
      "50%         1.000000      74.990000      16.260000\n",
      "75%         1.000000     134.900000      21.150000\n",
      "max        21.000000    6735.000000     409.680000\n",
      "       review_score\n",
      "count  99224.000000\n",
      "mean       4.086421\n",
      "std        1.347579\n",
      "min        1.000000\n",
      "25%        4.000000\n",
      "50%        5.000000\n",
      "75%        5.000000\n",
      "max        5.000000\n",
      "                                order_id                       customer_id  \\\n",
      "count                              99441                             99441   \n",
      "unique                             99441                             99441   \n",
      "top     66dea50a8b16d9b4dee7af250b4be1a5  edb027a75a1449115f6b43211ae02a24   \n",
      "freq                                   1                                 1   \n",
      "\n",
      "       order_status order_purchase_timestamp    order_approved_at  \\\n",
      "count         99441                    99441                99281   \n",
      "unique            8                    98875                90733   \n",
      "top       delivered      2018-08-02 12:05:26  2018-02-27 04:31:10   \n",
      "freq          96478                        3                    9   \n",
      "\n",
      "       order_delivered_carrier_date order_delivered_customer_date  \\\n",
      "count                         97658                         96476   \n",
      "unique                        81018                         95664   \n",
      "top             2018-05-09 15:48:00           2018-05-08 19:36:48   \n",
      "freq                             47                             3   \n",
      "\n",
      "       order_estimated_delivery_date  \n",
      "count                          99441  \n",
      "unique                           459  \n",
      "top              2017-12-20 00:00:00  \n",
      "freq                             522  \n",
      "       product_name_lenght  product_description_lenght  product_photos_qty  \\\n",
      "count         32341.000000                32341.000000        32341.000000   \n",
      "mean             48.476949                  771.495285            2.188986   \n",
      "std              10.245741                  635.115225            1.736766   \n",
      "min               5.000000                    4.000000            1.000000   \n",
      "25%              42.000000                  339.000000            1.000000   \n",
      "50%              51.000000                  595.000000            1.000000   \n",
      "75%              57.000000                  972.000000            3.000000   \n",
      "max              76.000000                 3992.000000           20.000000   \n",
      "\n",
      "       product_weight_g  product_length_cm  product_height_cm  \\\n",
      "count      32949.000000       32949.000000       32949.000000   \n",
      "mean        2276.472488          30.815078          16.937661   \n",
      "std         4282.038731          16.914458          13.637554   \n",
      "min            0.000000           7.000000           2.000000   \n",
      "25%          300.000000          18.000000           8.000000   \n",
      "50%          700.000000          25.000000          13.000000   \n",
      "75%         1900.000000          38.000000          21.000000   \n",
      "max        40425.000000         105.000000         105.000000   \n",
      "\n",
      "       product_width_cm  \n",
      "count      32949.000000  \n",
      "mean          23.196728  \n",
      "std           12.079047  \n",
      "min            6.000000  \n",
      "25%           15.000000  \n",
      "50%           20.000000  \n",
      "75%           30.000000  \n",
      "max          118.000000  \n",
      "Ini merupakan jumlah missing value pada tiap tabel:\n",
      "order_id               0\n",
      "order_item_id          0\n",
      "product_id             0\n",
      "seller_id              0\n",
      "shipping_limit_date    0\n",
      "price                  0\n",
      "freight_value          0\n",
      "dtype: int64\n",
      "review_id                      0\n",
      "order_id                       0\n",
      "review_score                   0\n",
      "review_comment_title       87656\n",
      "review_comment_message     58247\n",
      "review_creation_date           0\n",
      "review_answer_timestamp        0\n",
      "dtype: int64\n",
      "order_id                            0\n",
      "customer_id                         0\n",
      "order_status                        0\n",
      "order_purchase_timestamp            0\n",
      "order_approved_at                 160\n",
      "order_delivered_carrier_date     1783\n",
      "order_delivered_customer_date    2965\n",
      "order_estimated_delivery_date       0\n",
      "dtype: int64\n",
      "product_id                      0\n",
      "product_category_name         610\n",
      "product_name_lenght           610\n",
      "product_description_lenght    610\n",
      "product_photos_qty            610\n",
      "product_weight_g                2\n",
      "product_length_cm               2\n",
      "product_height_cm               2\n",
      "product_width_cm                2\n",
      "dtype: int64\n",
      "Ini merupakan jumlah duplicated record pada tiap tabel:\n",
      "Order Items:  0\n",
      "Order Reviews:  0\n",
      "Orders:  0\n",
      "Products:  0\n"
     ]
    }
   ],
   "source": [
    "# Melakukan pengecekan terhadap data type\n",
    "print(\"Ini merupakan struktur dari tiap tabel:\")\n",
    "print(dfOrderItems.info())\n",
    "print(dfOrderReviews.info())\n",
    "print(dfOrders.info())\n",
    "print(dfProducts.info())\n",
    "# Melakukan pengecekan terhadap invalid value\n",
    "print(\"Ini merupakan parameter statistik tiap tabel:\")\n",
    "print(dfOrderItems.describe())\n",
    "print(dfOrderReviews.describe())\n",
    "print(dfOrders.describe())\n",
    "print(dfProducts.describe())\n",
    "# Melakukan pengecekan terhadap missing value:\n",
    "print(\"Ini merupakan jumlah missing value pada tiap tabel:\")\n",
    "print(dfOrderItems.isnull().sum())\n",
    "print(dfOrderReviews.isnull().sum())\n",
    "print(dfOrders.isnull().sum())\n",
    "print(dfProducts.isnull().sum())\n",
    "# Melakukan pengecekan terhadap duplicate record\n",
    "print(\"Ini merupakan jumlah duplicated record pada tiap tabel:\")\n",
    "print(\"Order Items: \", dfOrderItems.duplicated().sum())\n",
    "print(\"Order Reviews: \",dfOrderReviews.duplicated().sum())\n",
    "print(\"Orders: \",dfOrders.duplicated().sum())\n",
    "print(\"Products: \",dfProducts.duplicated().sum())"
   ]
  },
  {
   "cell_type": "markdown",
   "metadata": {
    "id": "7dtxhAPrkhPL"
   },
   "source": [
    "**Insight:**\n",
    "\n",
    "False DataType:\n",
    "- Field shipping_limit_date pada tabel OrderItems dapat di ganti datatype nya dari object menjadi datetime\n",
    "- Field review_creation_date pada tabel OrderReviews dapat di ganti datatype nya dari object menjadi datetime\n",
    "- Field review_answer_timestamp pada tabel OrderReviews dapat di ganti datatype nya dari object menjadi datetime\n",
    "- Field order_purchase_timestamp pada tabel Orders dapat di ganti datatype nya dari object menjadi datetime\n",
    "- Field order_approved_at pada tabel Orders dapat di ganti datatype nya dari object menjadi datetime\n",
    "- Field order_delivered_carrier_date pada tabel Orders dapat di ganti datatype nya dari object menjadi datetime\n",
    "- Field order_delivered_customer_date pada tabel Orders dapat di ganti datatype nya dari object menjadi datetime\n",
    "- Field order_estimated_delivery_date pada tabel Orders dapat di ganti datatype nya dari object menjadi datetime\n",
    "- Field product_name_lenght pada tabel Products dapat di ganti datatype nya dari object menjadi int64\n",
    "- Field product_description_lenght pada tabel Products dapat di ganti datatype nya dari object menjadi int64\n",
    "- Field product_photos_qty pada tabel Products dapat di ganti datatype nya dari object menjadi int64\n",
    "- Selain itu terdapat kesalahan penulisan kata \"length\" pada column product_name_lenght dan product_description_lenght\n",
    "Missing Value:\n",
    "- Tabel OrderItems tidak memiliki missing value\n",
    "- Tabel OrderReviews memiliki missing value pada field review_comment_title (87656), review_comment_message (58247)\n",
    "- Tabel Orders memiliki missing value pada field order_approved_at (160), order_delivered_carrier_date (1783), order_delivered_customer_date (2965)\n",
    "- Tabel Products memiliki missing value pada field product_category_name (610), product_name_lenght (610), product_description_lenght (610), product_description_lenght (610), product_photos_qty (610), product_weight_g (2), product_length_cm (2), product_height_cm (2), product_width_cm (2)\n",
    "\n",
    "Duplicated record:\n",
    "- Tidak ada record yang duplicate"
   ]
  },
  {
   "cell_type": "markdown",
   "metadata": {
    "id": "EhN5R4hr8DC1"
   },
   "source": [
    "### Cleaning Data"
   ]
  },
  {
   "cell_type": "code",
   "execution_count": 4,
   "metadata": {
    "id": "jVnYpprE9Evz"
   },
   "outputs": [
    {
     "name": "stdout",
     "output_type": "stream",
     "text": [
      "<class 'pandas.core.frame.DataFrame'>\n",
      "RangeIndex: 112650 entries, 0 to 112649\n",
      "Data columns (total 7 columns):\n",
      " #   Column               Non-Null Count   Dtype         \n",
      "---  ------               --------------   -----         \n",
      " 0   order_id             112650 non-null  object        \n",
      " 1   order_item_id        112650 non-null  int64         \n",
      " 2   product_id           112650 non-null  object        \n",
      " 3   seller_id            112650 non-null  object        \n",
      " 4   shipping_limit_date  112650 non-null  datetime64[ns]\n",
      " 5   price                112650 non-null  float64       \n",
      " 6   freight_value        112650 non-null  float64       \n",
      "dtypes: datetime64[ns](1), float64(2), int64(1), object(3)\n",
      "memory usage: 6.0+ MB\n",
      "None\n",
      "<class 'pandas.core.frame.DataFrame'>\n",
      "RangeIndex: 99224 entries, 0 to 99223\n",
      "Data columns (total 7 columns):\n",
      " #   Column                   Non-Null Count  Dtype         \n",
      "---  ------                   --------------  -----         \n",
      " 0   review_id                99224 non-null  object        \n",
      " 1   order_id                 99224 non-null  object        \n",
      " 2   review_score             99224 non-null  int64         \n",
      " 3   review_comment_title     99224 non-null  object        \n",
      " 4   review_comment_message   99224 non-null  object        \n",
      " 5   review_creation_date     99224 non-null  datetime64[ns]\n",
      " 6   review_answer_timestamp  99224 non-null  datetime64[ns]\n",
      "dtypes: datetime64[ns](2), int64(1), object(4)\n",
      "memory usage: 5.3+ MB\n",
      "None\n",
      "<class 'pandas.core.frame.DataFrame'>\n",
      "Index: 96461 entries, 0 to 99440\n",
      "Data columns (total 8 columns):\n",
      " #   Column                         Non-Null Count  Dtype         \n",
      "---  ------                         --------------  -----         \n",
      " 0   order_id                       96461 non-null  object        \n",
      " 1   customer_id                    96461 non-null  object        \n",
      " 2   order_status                   96461 non-null  object        \n",
      " 3   order_purchase_timestamp       96461 non-null  datetime64[ns]\n",
      " 4   order_approved_at              96461 non-null  datetime64[ns]\n",
      " 5   order_delivered_carrier_date   96461 non-null  datetime64[ns]\n",
      " 6   order_delivered_customer_date  96461 non-null  datetime64[ns]\n",
      " 7   order_estimated_delivery_date  96461 non-null  datetime64[ns]\n",
      "dtypes: datetime64[ns](5), object(3)\n",
      "memory usage: 6.6+ MB\n",
      "None\n",
      "<class 'pandas.core.frame.DataFrame'>\n",
      "RangeIndex: 32951 entries, 0 to 32950\n",
      "Data columns (total 9 columns):\n",
      " #   Column                      Non-Null Count  Dtype  \n",
      "---  ------                      --------------  -----  \n",
      " 0   product_id                  32951 non-null  object \n",
      " 1   product_category_name       32951 non-null  object \n",
      " 2   product_name_length         32951 non-null  int64  \n",
      " 3   product_description_length  32951 non-null  int64  \n",
      " 4   product_photos_qty          32951 non-null  int64  \n",
      " 5   product_weight_g            32951 non-null  float64\n",
      " 6   product_length_cm           32951 non-null  float64\n",
      " 7   product_height_cm           32951 non-null  float64\n",
      " 8   product_width_cm            32951 non-null  float64\n",
      "dtypes: float64(4), int64(3), object(2)\n",
      "memory usage: 2.3+ MB\n",
      "None\n"
     ]
    },
    {
     "name": "stderr",
     "output_type": "stream",
     "text": [
      "C:\\Users\\Darryl\\AppData\\Local\\Temp\\ipykernel_2676\\2875579458.py:20: FutureWarning: A value is trying to be set on a copy of a DataFrame or Series through chained assignment using an inplace method.\n",
      "The behavior will change in pandas 3.0. This inplace method will never work because the intermediate object on which we are setting values always behaves as a copy.\n",
      "\n",
      "For example, when doing 'df[col].method(value, inplace=True)', try using 'df.method({col: value}, inplace=True)' or df[col] = df[col].method(value) instead, to perform the operation inplace on the original object.\n",
      "\n",
      "\n",
      "  dfOrderReviews['review_comment_title'].fillna('No Title', inplace=True)\n",
      "C:\\Users\\Darryl\\AppData\\Local\\Temp\\ipykernel_2676\\2875579458.py:21: FutureWarning: A value is trying to be set on a copy of a DataFrame or Series through chained assignment using an inplace method.\n",
      "The behavior will change in pandas 3.0. This inplace method will never work because the intermediate object on which we are setting values always behaves as a copy.\n",
      "\n",
      "For example, when doing 'df[col].method(value, inplace=True)', try using 'df.method({col: value}, inplace=True)' or df[col] = df[col].method(value) instead, to perform the operation inplace on the original object.\n",
      "\n",
      "\n",
      "  dfOrderReviews['review_comment_message'].fillna('No Comment', inplace=True)\n",
      "C:\\Users\\Darryl\\AppData\\Local\\Temp\\ipykernel_2676\\2875579458.py:22: FutureWarning: A value is trying to be set on a copy of a DataFrame or Series through chained assignment using an inplace method.\n",
      "The behavior will change in pandas 3.0. This inplace method will never work because the intermediate object on which we are setting values always behaves as a copy.\n",
      "\n",
      "For example, when doing 'df[col].method(value, inplace=True)', try using 'df.method({col: value}, inplace=True)' or df[col] = df[col].method(value) instead, to perform the operation inplace on the original object.\n",
      "\n",
      "\n",
      "  dfProducts['product_category_name'].fillna('No Name', inplace=True)\n",
      "C:\\Users\\Darryl\\AppData\\Local\\Temp\\ipykernel_2676\\2875579458.py:23: FutureWarning: A value is trying to be set on a copy of a DataFrame or Series through chained assignment using an inplace method.\n",
      "The behavior will change in pandas 3.0. This inplace method will never work because the intermediate object on which we are setting values always behaves as a copy.\n",
      "\n",
      "For example, when doing 'df[col].method(value, inplace=True)', try using 'df.method({col: value}, inplace=True)' or df[col] = df[col].method(value) instead, to perform the operation inplace on the original object.\n",
      "\n",
      "\n",
      "  dfProducts['product_weight_g'].fillna(dfProducts['product_weight_g'].mean(), inplace=True)\n",
      "C:\\Users\\Darryl\\AppData\\Local\\Temp\\ipykernel_2676\\2875579458.py:24: FutureWarning: A value is trying to be set on a copy of a DataFrame or Series through chained assignment using an inplace method.\n",
      "The behavior will change in pandas 3.0. This inplace method will never work because the intermediate object on which we are setting values always behaves as a copy.\n",
      "\n",
      "For example, when doing 'df[col].method(value, inplace=True)', try using 'df.method({col: value}, inplace=True)' or df[col] = df[col].method(value) instead, to perform the operation inplace on the original object.\n",
      "\n",
      "\n",
      "  dfProducts['product_length_cm'].fillna(dfProducts['product_length_cm'].mean(), inplace=True)\n",
      "C:\\Users\\Darryl\\AppData\\Local\\Temp\\ipykernel_2676\\2875579458.py:25: FutureWarning: A value is trying to be set on a copy of a DataFrame or Series through chained assignment using an inplace method.\n",
      "The behavior will change in pandas 3.0. This inplace method will never work because the intermediate object on which we are setting values always behaves as a copy.\n",
      "\n",
      "For example, when doing 'df[col].method(value, inplace=True)', try using 'df.method({col: value}, inplace=True)' or df[col] = df[col].method(value) instead, to perform the operation inplace on the original object.\n",
      "\n",
      "\n",
      "  dfProducts['product_height_cm'].fillna(dfProducts['product_height_cm'].mean(), inplace=True)\n",
      "C:\\Users\\Darryl\\AppData\\Local\\Temp\\ipykernel_2676\\2875579458.py:26: FutureWarning: A value is trying to be set on a copy of a DataFrame or Series through chained assignment using an inplace method.\n",
      "The behavior will change in pandas 3.0. This inplace method will never work because the intermediate object on which we are setting values always behaves as a copy.\n",
      "\n",
      "For example, when doing 'df[col].method(value, inplace=True)', try using 'df.method({col: value}, inplace=True)' or df[col] = df[col].method(value) instead, to perform the operation inplace on the original object.\n",
      "\n",
      "\n",
      "  dfProducts['product_width_cm'].fillna(dfProducts['product_width_cm'].mean(), inplace=True)\n"
     ]
    }
   ],
   "source": [
    "# Mengganti nama column yang salah\n",
    "dfProducts.rename(columns={\n",
    "    'product_name_lenght': 'product_name_length',\n",
    "    'product_description_lenght': 'product_description_length'\n",
    "}, inplace=True)\n",
    "# Mengganti datatype yang salah\n",
    "dfOrderItems[\"shipping_limit_date\"] = pd.to_datetime(dfOrderItems[\"shipping_limit_date\"])\n",
    "dfOrderReviews[\"review_creation_date\"] = pd.to_datetime(dfOrderReviews[\"review_creation_date\"])\n",
    "dfOrderReviews[\"review_answer_timestamp\"] = pd.to_datetime(dfOrderReviews[\"review_answer_timestamp\"])\n",
    "dfOrders[\"order_purchase_timestamp\"] = pd.to_datetime(dfOrders[\"order_purchase_timestamp\"])\n",
    "dfOrders[\"order_approved_at\"] = pd.to_datetime(dfOrders[\"order_approved_at\"])\n",
    "dfOrders[\"order_delivered_carrier_date\"] = pd.to_datetime(dfOrders[\"order_delivered_carrier_date\"])\n",
    "dfOrders[\"order_delivered_customer_date\"] = pd.to_datetime(dfOrders[\"order_delivered_customer_date\"])\n",
    "dfOrders[\"order_estimated_delivery_date\"] = pd.to_datetime(dfOrders[\"order_estimated_delivery_date\"])\n",
    "dfProducts[\"product_name_length\"] = dfProducts[\"product_name_length\"].fillna(0).astype(int)\n",
    "dfProducts[\"product_description_length\"] = dfProducts[\"product_description_length\"].fillna(0).astype(int)\n",
    "dfProducts[\"product_photos_qty\"] = dfProducts[\"product_photos_qty\"].fillna(0).astype(int)\n",
    "# Mengatasi missing value\n",
    "dfOrders.dropna(subset=['order_approved_at', 'order_delivered_carrier_date', 'order_delivered_customer_date'], inplace=True)\n",
    "dfOrderReviews['review_comment_title'].fillna('No Title', inplace=True)\n",
    "dfOrderReviews['review_comment_message'].fillna('No Comment', inplace=True)\n",
    "dfProducts['product_category_name'].fillna('No Name', inplace=True)\n",
    "dfProducts['product_weight_g'].fillna(dfProducts['product_weight_g'].mean(), inplace=True)\n",
    "dfProducts['product_length_cm'].fillna(dfProducts['product_length_cm'].mean(), inplace=True)\n",
    "dfProducts['product_height_cm'].fillna(dfProducts['product_height_cm'].mean(), inplace=True)\n",
    "dfProducts['product_width_cm'].fillna(dfProducts['product_width_cm'].mean(), inplace=True)\n",
    "\n",
    "print(dfOrderItems.info())\n",
    "print(dfOrderReviews.info())\n",
    "print(dfOrders.info())\n",
    "print(dfProducts.info())"
   ]
  },
  {
   "cell_type": "markdown",
   "metadata": {
    "id": "Q_5ejIqckiSP"
   },
   "source": [
    "**Insight:**\n",
    "- Field product_name_lenght dan product_description_lenght telah direname menjadi product_name_length dan product_description_length\n",
    "- Field yang memerlukan data berupa waktu juga telah diganti menjadi datetime\n",
    "- Missing value telah didrop dan/atau di isi dengan menggunakan default value (0 / No Title/ No Comment/ mean())"
   ]
  },
  {
   "cell_type": "markdown",
   "metadata": {
    "id": "gp-Y6wU38DC1"
   },
   "source": [
    "## Exploratory Data Analysis (EDA)"
   ]
  },
  {
   "cell_type": "markdown",
   "metadata": {
    "id": "MW7WF2kr8DC1"
   },
   "source": [
    "### Explore"
   ]
  },
  {
   "cell_type": "code",
   "execution_count": 5,
   "metadata": {
    "id": "e9CQCZjk8DC2"
   },
   "outputs": [
    {
     "name": "stdout",
     "output_type": "stream",
     "text": [
      "             order_id product_description_length                    \\\n",
      "              nunique                        min   max        mean   \n",
      "review_score                                                         \n",
      "1               10854                          0  3992  760.772181   \n",
      "2                3086                          0  3923  722.841507   \n",
      "3                8107                          0  3985  763.437971   \n",
      "4               19065                          0  3985  781.722027   \n",
      "5               57006                          0  3992  781.899252   \n",
      "\n",
      "                         product_photos_qty                          \n",
      "                     std                min max      mean       std  \n",
      "review_score                                                         \n",
      "1             663.081764                  0  19  2.047348  1.672709  \n",
      "2             607.690332                  0  17  2.124677  1.759397  \n",
      "3             643.773000                  0  13  2.206728  1.735702  \n",
      "4             646.482937                  0  18  2.207319  1.731629  \n",
      "5             657.821800                  0  20  2.192428  1.733540  \n"
     ]
    }
   ],
   "source": [
    "# Melakukan merge pada tabel orderitems, products, reviews\n",
    "dfMergedOrderandProductsandReviews = pd.merge(dfOrderItems, dfProducts, how='inner', on='product_id')\n",
    "dfMergedOrderandProductsandReviews = pd.merge(dfMergedOrderandProductsandReviews, dfOrderReviews, how='inner', on='order_id')\n",
    "# Menampilkan data yang digroup dengan reviewscore\n",
    "print(dfMergedOrderandProductsandReviews.groupby(by=\"review_score\").agg({\n",
    "    \"order_id\": \"nunique\",\n",
    "    \"product_description_length\": [\"min\", \"max\", \"mean\", \"std\"],\n",
    "    \"product_photos_qty\": [\"min\", \"max\", \"mean\", \"std\"]\n",
    "}))\n",
    "\n",
    "# Menambah field deliveryTime ke tabel orders\n",
    "deliveryTime = dfOrders[\"order_delivered_customer_date\"] - dfOrders[\"order_approved_at\"]\n",
    "deliveryTime = deliveryTime.apply(lambda x: x.total_seconds())\n",
    "dfOrders[\"deliveryTime\"] = round(deliveryTime / 86400)\n",
    "# Melakukan merge pada tabel orders dan review\n",
    "dfMergedOrderandReviews = dfOrders.merge(dfOrderReviews, on='order_id', how='left')\n",
    "# Menampilkan data yang digroup dengan reviewscore\n",
    "dfMergedOrderandReviews.groupby(by=\"review_score\").agg({\n",
    "    \"order_id\": \"nunique\",\n",
    "    \"deliveryTime\": \"mean\"\n",
    "})\n",
    "# Memfilter deliveryTime\n",
    "dfMergedOrderandReviews = dfMergedOrderandReviews[(dfMergedOrderandReviews['deliveryTime'] >= 0) & (dfMergedOrderandReviews['deliveryTime'] <= 50)]"
   ]
  },
  {
   "cell_type": "markdown",
   "metadata": {
    "id": "th_Lzl2Fkj9O"
   },
   "source": [
    "**Insight:**\n",
    "- Rating order di dominasi oleh skor 5 yang mana memberikan tanda kepuasan pelanggan yang cukup tinggi\n",
    "- Stdev dari product_description_length cukup besar yang mana menandakan banyak produk yang tidak di deskripsikan dengan baik\n",
    "- Rata-rata lama pengantaran barang memberikan pengaruh kepada rating\n",
    "- Setelah mencari delivery time terdapat outlier dan kesalahan input yang menyebabkan delivery time yang tidak masuk akal (nilai negatif dan lebih dari 50 hari) sehingga saya memutuskan untuk hanya mengambil nilai yang berada diantara 0 - 50 hari"
   ]
  },
  {
   "cell_type": "markdown",
   "metadata": {
    "id": "zsyZjqak8DC2"
   },
   "source": [
    "## Visualization & Explanatory Analysis"
   ]
  },
  {
   "cell_type": "markdown",
   "metadata": {
    "id": "HZxOiQ6n8DC2"
   },
   "source": [
    "### Pertanyaan 1:"
   ]
  },
  {
   "cell_type": "code",
   "execution_count": 6,
   "metadata": {
    "id": "1swJUdAD8DC2"
   },
   "outputs": [
    {
     "data": {
      "image/png": "[encoded data removed]",
      "text/plain": [
       "<Figure size 1000x600 with 2 Axes>"
      ]
     },
     "metadata": {},
     "output_type": "display_data"
    },
    {
     "data": {
      "image/png": "[encoded data removed]",
      "text/plain": [
       "<Figure size 1000x600 with 1 Axes>"
      ]
     },
     "metadata": {},
     "output_type": "display_data"
    }
   ],
   "source": [
    "plt.figure(figsize=(10, 6))\n",
    "plt.hist2d(dfMergedOrderandProductsandReviews['product_description_length'], dfMergedOrderandProductsandReviews['review_score'], bins=50, cmap='Blues')\n",
    "plt.colorbar(label='Count')\n",
    "plt.title('Product Description Length vs Review Score')\n",
    "plt.xlabel('Product Description Length')\n",
    "plt.ylabel('Review Score')\n",
    "plt.show()\n",
    "\n",
    "plt.figure(figsize=(10, 6))\n",
    "sns.boxplot(data=dfMergedOrderandProductsandReviews, x='product_photos_qty', y='review_score')\n",
    "plt.title('Product Photos vs Review Score')\n",
    "plt.xlabel('Number of Photos')\n",
    "plt.ylabel('Review Score')\n",
    "plt.show()"
   ]
  },
  {
   "cell_type": "markdown",
   "metadata": {
    "id": "DgHI7CiU8DC2"
   },
   "source": [
    "### Pertanyaan 2:"
   ]
  },
  {
   "cell_type": "code",
   "execution_count": 7,
   "metadata": {
    "id": "Go0lCsvO8DC2"
   },
   "outputs": [
    {
     "data": {
      "image/png": "[encoded data removed]",
      "text/plain": [
       "<Figure size 1000x600 with 2 Axes>"
      ]
     },
     "metadata": {},
     "output_type": "display_data"
    }
   ],
   "source": [
    "dfMergedOrderandReviews = dfMergedOrderandReviews.dropna(subset=['deliveryTime', 'review_score'])\n",
    "plt.figure(figsize=(10, 6))\n",
    "plt.hist2d(dfMergedOrderandReviews['deliveryTime'], dfMergedOrderandReviews['review_score'], bins=50, cmap='Blues')\n",
    "plt.colorbar(label='Count')\n",
    "plt.title('Delivery Time vs Review Score (2D Histogram)')\n",
    "plt.xlabel('Delivery Time in days')\n",
    "plt.ylabel('Review Score')\n",
    "plt.show()"
   ]
  },
  {
   "cell_type": "markdown",
   "metadata": {
    "id": "_0-36BDLklRg"
   },
   "source": [
    "**Insight:**\n",
    "- Deskripsi produk yang memiliki rating bagus terkonsentrasi pada angka sekitar 500 huruf\n",
    "- Jumlah foto produk yang memiliki rating bagus berada pada angka 2 - 8\n",
    "- Waktu pengantaran barang dibawah 25 hari memiliki peluang yang lebih besar untuk mendapat rating 5 dari pelanggan"
   ]
  },
  {
   "cell_type": "markdown",
   "metadata": {
    "id": "_WeHlCeX8DC2"
   },
   "source": [
    "## Conclusion"
   ]
  },
  {
   "cell_type": "markdown",
   "metadata": {
    "id": "ZTcyR48Y8DC2"
   },
   "source": [
    "- Berdasarkan hasil analisa saya meyimpulkan bahwa kualitas barang yang baik tidak selalu memiliki deskripsi yang panjang dan jumlah foto yang banyak tetapi memiliki jumlah yang ideal yaitu tidak lebih dari 500 huruf untuk deskripsi dan 2-8 foto. Kepuasan pelanggan memiliki korelasi dengan kualitas barang, semakin berkualitas barangnya semakin bagus rating yang diberikan.\n",
    "- Berdasarkan hasil analisa saya meyimpulkan bahwa lama waktu pengantaran bukan satu-satunya faktor kepuasann pelanggan, tetapi waktu pengantaran dibawah 25 hari memiliki peluang yang lebih besar untuk mendapatkan rating 5. Kepuasan pelanggan memiliki korelasi dengan waktu pengantaran."
   ]
  },
  {
   "cell_type": "code",
   "execution_count": 8,
   "metadata": {},
   "outputs": [],
   "source": [
    "dfMergedOrderandProductsandReviews.to_csv('dashboard/MergedOrderandProductsandReviews.csv', index=False)\n",
    "dfMergedOrderandReviews.to_csv('dashboard/MergedOrderandReviews.csv', index=False)\n",
    "dfOrderReviews.to_csv('dashboard/OrderReviews.csv', index=False)"
   ]
  }
 ],
 "metadata": {
  "colab": {
   "provenance": [
    {
     "file_id": "1ug4Ox4qIFDSo1koFA0XiNJE-ce12rECy",
     "timestamp": 1727937521152
    }
   ]
  },
  "kernelspec": {
   "display_name": "Python 3",
   "language": "python",
   "name": "python3"
  },
  "language_info": {
   "codemirror_mode": {
    "name": "ipython",
    "version": 3
   },
   "file_extension": ".py",
   "mimetype": "text/x-python",
   "name": "python",
   "nbconvert_exporter": "python",
   "pygments_lexer": "ipython3",
   "version": "3.12.6"
  }
 },
 "nbformat": 4,
 "nbformat_minor": 4
}
